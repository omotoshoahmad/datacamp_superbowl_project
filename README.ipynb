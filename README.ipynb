{
 "cells": [
  {
   "cell_type": "markdown",
   "metadata": {},
   "source": [
    "# EXPLORING THE EVENTS DURING THE HALFTIME OF BASEBALL SHOWS\n",
    "The purpose of this noteboook is to gain indepth understanding of the various decisions made regarding halftime events in baseball shows, nowadays the most common is an advertisement or some analysis program. through the exploartory data analysis we look to uncover the trends in these decisions and to decide what steps made baseball shows better in ordrer to help upcoing businesses make better decisions."
   ]
  },
  {
   "cell_type": "markdown",
   "metadata": {},
   "source": [
    "# EXPLORING THE EVENTS DURING THE HALFTIME OF BASEBALL SHOWS\n",
    "The purpose of this noteboook is to gain indepth understanding of the various decisions made regarding halftime events in superbowl games. Super Bowl LIII was an American football game played to determine the champion of the National Football League (NFL) for the season. This has seen excellent perfomances from various artiste like Micheal Jackson in 1993 to the flying Lady Gaga in 2017, through the exploartory data analysis we look to uncover the trends in these games and to answer questions like.\n",
    "<ul>\n",
    "<li>What are the most extreme game outcomes?</li>\n",
    "<li>How does the game affect television viewership?</li>\n",
    "<li>How have viewership, TV ratings, and ad cost evolved over time?</li>\n",
    "<li>Who are the most prolific musicians in terms of halftime show performances?</li>\n",
    "</ul>"
   ]
  },
  {
   "cell_type": "code",
   "execution_count": null,
   "metadata": {},
   "outputs": [],
   "source": []
  }
 ],
 "metadata": {
  "kernelspec": {
   "display_name": "Python 3",
   "language": "python",
   "name": "python3"
  },
  "language_info": {
   "codemirror_mode": {
    "name": "ipython",
    "version": 3
   },
   "file_extension": ".py",
   "mimetype": "text/x-python",
   "name": "python",
   "nbconvert_exporter": "python",
   "pygments_lexer": "ipython3",
   "version": "3.7.1"
  }
 },
 "nbformat": 4,
 "nbformat_minor": 2
}
